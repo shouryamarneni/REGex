{
 "cells": [
  {
   "cell_type": "code",
   "execution_count": 254,
   "metadata": {},
   "outputs": [
    {
     "name": "stdout",
     "output_type": "stream",
     "text": [
      "Enter the number of rows: 8\n",
      "5 5 5 5 5 5 5 5 \n",
      "5 5 5 5 5 5 5 \n",
      "5 5 5 5 5 5 \n",
      "5 5 5 5 5 \n",
      "5 5 5 5 \n",
      "5 5 5 \n",
      "5 5 \n",
      "5 \n"
     ]
    }
   ],
   "source": [
    "# Question: 1\n",
    "a = int(input('Enter the number of rows: '))\n",
    "for i in range(a,0,-1):\n",
    "    for j in range(1,i+1):\n",
    "        print('5', end= \" \")\n",
    "    print()"
   ]
  },
  {
   "cell_type": "code",
   "execution_count": 255,
   "metadata": {},
   "outputs": [
    {
     "name": "stdout",
     "output_type": "stream",
     "text": [
      "Enter the number of rows: 8\n",
      "0 1 2 3 4 5 6 7 8 \n",
      "0 1 2 3 4 5 6 7 \n",
      "0 1 2 3 4 5 6 \n",
      "0 1 2 3 4 5 \n",
      "0 1 2 3 4 \n",
      "0 1 2 3 \n",
      "0 1 2 \n",
      "0 1 \n"
     ]
    }
   ],
   "source": [
    "# Question: 2\n",
    "a = int(input('Enter the number of rows: '))\n",
    "for i in range(a,0,-1):\n",
    "    for j in range(0,i+1):\n",
    "        print(j, end= \" \")\n",
    "    print()"
   ]
  },
  {
   "cell_type": "code",
   "execution_count": 256,
   "metadata": {},
   "outputs": [
    {
     "name": "stdout",
     "output_type": "stream",
     "text": [
      "Enter the number of rows: 8\n",
      "1 \n",
      "3 3 \n",
      "5 5 5 \n",
      "7 7 7 7 \n",
      "9 9 9 9 9 \n",
      "11 11 11 11 11 11 \n",
      "13 13 13 13 13 13 13 \n",
      "15 15 15 15 15 15 15 15 \n"
     ]
    }
   ],
   "source": [
    "# Question: 3\n",
    "n = int(input('Enter the number of rows: '))\n",
    "for i in range(1, n+1):\n",
    "    for j in range(1,i+1):\n",
    "        print((i*2-1), end = \" \")\n",
    "    print()"
   ]
  },
  {
   "cell_type": "code",
   "execution_count": 257,
   "metadata": {},
   "outputs": [
    {
     "name": "stdout",
     "output_type": "stream",
     "text": [
      "Enter the number of rows: 8\n",
      "1 \n",
      "2 1 \n",
      "3 2 1 \n",
      "4 3 2 1 \n",
      "5 4 3 2 1 \n",
      "6 5 4 3 2 1 \n",
      "7 6 5 4 3 2 1 \n",
      "8 7 6 5 4 3 2 1 \n"
     ]
    }
   ],
   "source": [
    "# Question: 4\n",
    "n = int(input('Enter the number of rows: '))\n",
    "for i in range(1, n+1):\n",
    "    for j in range(i,0,-1):\n",
    "        print(j, end = \" \")\n",
    "    print()"
   ]
  },
  {
   "cell_type": "code",
   "execution_count": 258,
   "metadata": {},
   "outputs": [
    {
     "name": "stdout",
     "output_type": "stream",
     "text": [
      "Enter the number of rows: 8\n",
      "1 \n",
      "3 2 \n",
      "6 5 4 \n",
      "10 9 8 7 \n",
      "15 14 13 12 11 \n",
      "21 20 19 18 17 16 \n",
      "28 27 26 25 24 23 22 \n",
      "36 35 34 33 32 31 30 29 \n"
     ]
    }
   ],
   "source": [
    "# Question: 5\n",
    "n = int(input('Enter the number of rows: '))  \n",
    "m = 0\n",
    "for i in range(1,n+1):\n",
    "    m = m+i\n",
    "    for j in range(m,m-i,-1):\n",
    "        print(j,end =\" \")\n",
    "    print()"
   ]
  },
  {
   "cell_type": "code",
   "execution_count": 259,
   "metadata": {},
   "outputs": [
    {
     "name": "stdout",
     "output_type": "stream",
     "text": [
      "Enter the number of rows: 8\n",
      "1 \n",
      "1 1 \n",
      "1 2 1 \n",
      "1 3 3 1 \n",
      "1 4 6 4 1 \n",
      "1 5 10 10 5 1 \n",
      "1 6 15 20 15 6 1 \n",
      "1 7 21 35 35 21 7 1 \n"
     ]
    }
   ],
   "source": [
    "# Question: 6\n",
    "n = int(input('Enter the number of rows: '))\n",
    "l1 = []\n",
    "for i in range(n):\n",
    "    temp = []\n",
    "    for j in range(i+1):\n",
    "        if j ==0 or j ==i:\n",
    "            temp.append(1)\n",
    "        else:\n",
    "            temp.append(l1[i-1][j]+l1[i-1][j-1])\n",
    "    l1.append(temp)\n",
    "\n",
    "for i in range(n):\n",
    "    for j in range(i+1):\n",
    "        print(l1[i][j], end = \" \")\n",
    "    print()\n",
    "        "
   ]
  },
  {
   "cell_type": "code",
   "execution_count": 260,
   "metadata": {},
   "outputs": [
    {
     "name": "stdout",
     "output_type": "stream",
     "text": [
      "Enter the number of rows: 8\n",
      "1 2 3 4 5 6 7 8 \n",
      "2 2 3 4 5 6 7 8 \n",
      "3 3 3 4 5 6 7 8 \n",
      "4 4 4 4 5 6 7 8 \n",
      "5 5 5 5 5 6 7 8 \n",
      "6 6 6 6 6 6 7 8 \n",
      "7 7 7 7 7 7 7 8 \n",
      "8 8 8 8 8 8 8 8 \n"
     ]
    }
   ],
   "source": [
    "# Question: 7\n",
    "n = int(input('Enter the number of rows: '))\n",
    "for i in range(1,n+1):\n",
    "    for j in range(1,n+1):\n",
    "        if i >= j:\n",
    "            print(i, end = \" \")\n",
    "        else:\n",
    "            print(j , end =\" \")\n",
    "    print()\n",
    "        "
   ]
  },
  {
   "cell_type": "code",
   "execution_count": 261,
   "metadata": {},
   "outputs": [
    {
     "name": "stdout",
     "output_type": "stream",
     "text": [
      "Enter the number of rows: 8\n",
      "1 \n",
      "2 4 \n",
      "3 6 9 \n",
      "4 8 12 16 \n",
      "5 10 15 20 25 \n",
      "6 12 18 24 30 36 \n",
      "7 14 21 28 35 42 49 \n",
      "8 16 24 32 40 48 56 64 \n"
     ]
    }
   ],
   "source": [
    "# Question: 8\n",
    "n = int(input('Enter the number of rows: '))\n",
    "for i in range(1,n+1):\n",
    "    for j in range(1,i+1):\n",
    "        print(i*j, end= \" \")\n",
    "    print()"
   ]
  },
  {
   "cell_type": "code",
   "execution_count": 262,
   "metadata": {},
   "outputs": [
    {
     "name": "stdout",
     "output_type": "stream",
     "text": [
      "Enter the number of rows: 8\n",
      " * * * * * * * *\n",
      "  * * * * * * *\n",
      "   * * * * * *\n",
      "    * * * * *\n",
      "     * * * *\n",
      "      * * *\n",
      "       * *\n",
      "        *\n"
     ]
    }
   ],
   "source": [
    "# Question: 9\n",
    "n = int(input('Enter the number of rows: '))\n",
    "for j in range(n):\n",
    "    print(\" \"*(j)+\" *\"*(n-j))"
   ]
  },
  {
   "cell_type": "code",
   "execution_count": 263,
   "metadata": {
    "scrolled": true
   },
   "outputs": [
    {
     "name": "stdout",
     "output_type": "stream",
     "text": [
      "Enter the number of rows: 8\n",
      "        *\n",
      "       * *\n",
      "      * * *\n",
      "     * * * *\n",
      "    * * * * *\n",
      "   * * * * * *\n",
      "  * * * * * * *\n",
      " * * * * * * * *\n"
     ]
    }
   ],
   "source": [
    "# Question: 10\n",
    "n = int(input('Enter the number of rows: '))\n",
    "for i in range(1,n+1):\n",
    "    print(\" \"*(n-i)+\" *\" * (i))"
   ]
  },
  {
   "cell_type": "code",
   "execution_count": 264,
   "metadata": {},
   "outputs": [
    {
     "name": "stdout",
     "output_type": "stream",
     "text": [
      "Enter the number of rows: 8\n",
      "* \n",
      "* * \n",
      "* * * \n",
      "* * * * \n",
      "* * * * * \n",
      "* * * * * * \n",
      "* * * * * * * \n",
      "* * * * * * * * \n",
      "\n",
      "* * * * * * * * \n",
      "* * * * * * * \n",
      "* * * * * * \n",
      "* * * * * \n",
      "* * * * \n",
      "* * * \n",
      "* * \n",
      "* \n"
     ]
    }
   ],
   "source": [
    "# Question: 11\n",
    "n = int(input('Enter the number of rows: '))\n",
    "\n",
    "for i in range(1,n+1):\n",
    "    print('* '*i)\n",
    "print()\n",
    "for j in range(n,0,-1):\n",
    "    print('* '*j)"
   ]
  },
  {
   "cell_type": "code",
   "execution_count": 265,
   "metadata": {},
   "outputs": [
    {
     "name": "stdout",
     "output_type": "stream",
     "text": [
      "Enter the number of rows: 8\n",
      "* \n",
      "* * \n",
      "* * * \n",
      "* * * * \n",
      "* * * * * \n",
      "* * * * * * \n",
      "* * * * * * * \n",
      "* * * * * * * * \n",
      "* * * * * * * \n",
      "* * * * * * \n",
      "* * * * * \n",
      "* * * * \n",
      "* * * \n",
      "* * \n",
      "* \n"
     ]
    }
   ],
   "source": [
    "# Question: 12\n",
    "n = int(input('Enter the number of rows: '))\n",
    "for i in range(1,n+1):\n",
    "    print('* '*i)\n",
    "for j in range(n-1,0,-1):\n",
    "    print(\"* \"*j)"
   ]
  },
  {
   "cell_type": "code",
   "execution_count": 266,
   "metadata": {},
   "outputs": [
    {
     "name": "stdout",
     "output_type": "stream",
     "text": [
      "Enter the number of rows: 8\n",
      "              * \n",
      "            * * \n",
      "          * * * \n",
      "        * * * * \n",
      "      * * * * * \n",
      "    * * * * * * \n",
      "  * * * * * * * \n",
      "* * * * * * * * \n",
      "  * * * * * * * \n",
      "    * * * * * * \n",
      "      * * * * * \n",
      "        * * * * \n",
      "          * * * \n",
      "            * * \n",
      "              * \n"
     ]
    }
   ],
   "source": [
    "# Question: 13\n",
    "n = int(input('Enter the number of rows: '))\n",
    "for i in range(1,n+1):\n",
    "    for k in range(1,n-i+1):\n",
    "        print(\" \", end = \" \")\n",
    "    for j in range(1,i+1):\n",
    "        print(\"*\", end = \" \")\n",
    "    print()\n",
    "\n",
    "for i in range(n-1,0,-1):\n",
    "    for k in range(n-i,0,-1):\n",
    "        print(\" \", end = \" \")\n",
    "    for j in range(i,0,-1):\n",
    "        print(\"*\", end = \" \")\n",
    "    print()\n"
   ]
  },
  {
   "cell_type": "code",
   "execution_count": 267,
   "metadata": {},
   "outputs": [
    {
     "name": "stdout",
     "output_type": "stream",
     "text": [
      "Enter the number of rows: 8\n",
      " * * * * * * * *\n",
      "  * * * * * * *\n",
      "   * * * * * *\n",
      "    * * * * *\n",
      "     * * * *\n",
      "      * * *\n",
      "       * *\n",
      "        *\n",
      "        *\n",
      "       * *\n",
      "      * * *\n",
      "     * * * *\n",
      "    * * * * *\n",
      "   * * * * * *\n",
      "  * * * * * * *\n",
      " * * * * * * * *\n"
     ]
    }
   ],
   "source": [
    "# Question: 14\n",
    "n = int(input('Enter the number of rows: '))\n",
    "for j in range(n):\n",
    "    print(\" \"*(j)+\" *\"*(n-j))\n",
    "for i in range(n):\n",
    "    print(\" \"*(n-i-1)+\" *\" * (i+1))    "
   ]
  },
  {
   "cell_type": "code",
   "execution_count": 268,
   "metadata": {},
   "outputs": [
    {
     "name": "stdout",
     "output_type": "stream",
     "text": [
      "Enter the number of rows: 8\n",
      "****************\n",
      "*******__*******\n",
      "******____******\n",
      "*****______*****\n",
      "****________****\n",
      "***__________***\n",
      "**____________**\n",
      "*______________*\n"
     ]
    }
   ],
   "source": [
    "# Question: 15\n",
    "n = int(input('Enter the number of rows: '))\n",
    "for i in range(n):\n",
    "    print(\"*\"*(n-i)+\"_\" * (i*2)+\"*\"*(n-i))"
   ]
  },
  {
   "cell_type": "code",
   "execution_count": null,
   "metadata": {},
   "outputs": [],
   "source": [
    "SIRSS1184"
   ]
  }
 ],
 "metadata": {
  "kernelspec": {
   "display_name": "Python 3",
   "language": "python",
   "name": "python3"
  },
  "language_info": {
   "codemirror_mode": {
    "name": "ipython",
    "version": 3
   },
   "file_extension": ".py",
   "mimetype": "text/x-python",
   "name": "python",
   "nbconvert_exporter": "python",
   "pygments_lexer": "ipython3",
   "version": "3.7.6"
  }
 },
 "nbformat": 4,
 "nbformat_minor": 4
}
