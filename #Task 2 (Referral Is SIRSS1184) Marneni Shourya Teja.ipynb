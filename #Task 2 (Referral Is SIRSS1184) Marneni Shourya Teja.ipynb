{
 "cells": [
  {
   "cell_type": "code",
   "execution_count": 16,
   "metadata": {},
   "outputs": [
    {
     "data": {
      "text/plain": [
       "'M'"
      ]
     },
     "execution_count": 16,
     "metadata": {},
     "output_type": "execute_result"
    }
   ],
   "source": [
    "# Question 1: extracting first words first letter\n",
    "text = \"Machine Learning and Artificial Intelligence\"\n",
    "firstWord = lambda a : a.split()[0][0]\n",
    "firstWord(text)"
   ]
  },
  {
   "cell_type": "code",
   "execution_count": 17,
   "metadata": {},
   "outputs": [
    {
     "data": {
      "text/plain": [
       "'Machine'"
      ]
     },
     "execution_count": 17,
     "metadata": {},
     "output_type": "execute_result"
    }
   ],
   "source": [
    "# Question 2: Extracting first word of a string\n",
    "text = \"Machine Learning and Artificial Intelligence\"\n",
    "firstWord = lambda a : a.split()[0]\n",
    "firstWord(text)"
   ]
  },
  {
   "cell_type": "code",
   "execution_count": 18,
   "metadata": {},
   "outputs": [
    {
     "data": {
      "text/plain": [
       "['Hello', 'I', 'David', ',']"
      ]
     },
     "execution_count": 18,
     "metadata": {},
     "output_type": "execute_result"
    }
   ],
   "source": [
    "# Question 3: First words of each string in a list\n",
    "l = [\"Hello , I am John \",\n",
    "    \"I like football\",\"David has a dof\", \"    , safsd\"]\n",
    "list(map(lambda s: s.split()[0], l))"
   ]
  },
  {
   "cell_type": "code",
   "execution_count": 19,
   "metadata": {},
   "outputs": [
    {
     "name": "stdout",
     "output_type": "stream",
     "text": [
      "25\n",
      "[1, 5]\n"
     ]
    }
   ],
   "source": [
    "# Question 4: print prime factors of a number\n",
    "\n",
    "def primefactors(n):\n",
    "    for i in range(2,int(n**(0.5))+1):\n",
    "        if n%i==0:\n",
    "            return 0\n",
    "    else:\n",
    "        return 1\n",
    "num=int(input())\n",
    "pri =[1]\n",
    "for i in range(2,num+1):\n",
    "    if num%i==0:\n",
    "        if (primefactors(i)) ==1:\n",
    "            pri.append(i)\n",
    "print(pri)"
   ]
  },
  {
   "cell_type": "code",
   "execution_count": 20,
   "metadata": {},
   "outputs": [
    {
     "name": "stdout",
     "output_type": "stream",
     "text": [
      "Second largest number is : 799\n"
     ]
    }
   ],
   "source": [
    "# Question 5: Second largest number \n",
    "\n",
    "Numbers = [10189,231,389,799]\n",
    " \n",
    "Max = max(Numbers[0],Numbers[1])\n",
    "Min = min(Numbers[0],Numbers[1])\n",
    "\n",
    "n =len(Numbers)\n",
    "for i in range(2,n):\n",
    "    if Numbers[i]>Max:\n",
    "        Min = Max\n",
    "        Max = Numbers[i]\n",
    "    elif Numbers[i]>Min and Max != Numbers[i]:\n",
    "        Min = Numbers[i]\n",
    " \n",
    "print('Second largest number is : {}'.format(Min))"
   ]
  },
  {
   "cell_type": "code",
   "execution_count": null,
   "metadata": {},
   "outputs": [],
   "source": []
  }
 ],
 "metadata": {
  "kernelspec": {
   "display_name": "Python 3",
   "language": "python",
   "name": "python3"
  },
  "language_info": {
   "codemirror_mode": {
    "name": "ipython",
    "version": 3
   },
   "file_extension": ".py",
   "mimetype": "text/x-python",
   "name": "python",
   "nbconvert_exporter": "python",
   "pygments_lexer": "ipython3",
   "version": "3.7.6"
  }
 },
 "nbformat": 4,
 "nbformat_minor": 4
}
