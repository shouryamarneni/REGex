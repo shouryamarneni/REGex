{
 "cells": [
  {
   "cell_type": "code",
   "execution_count": 8,
   "metadata": {},
   "outputs": [
    {
     "name": "stdout",
     "output_type": "stream",
     "text": [
      "Enter value of n - 15\n",
      "nth term Fibonacci is 610\n"
     ]
    }
   ],
   "source": [
    "# Question 1: Function to return nth term of fibonacci sequence\n",
    "\n",
    "def Fibonacci(n):\n",
    "    fi = 1 \n",
    "    se = 1 \n",
    "    if n <= 2 :\n",
    "        return 1 \n",
    "    for i in range(2,n):\n",
    "        val = fi + se \n",
    "        fi = se \n",
    "        se = val\n",
    "    return val  \n",
    "\n",
    "num = input(\"Enter value of n - \")\n",
    "print(\"nth term Fibonacci is\" , Fibonacci(int(num)))"
   ]
  },
  {
   "cell_type": "code",
   "execution_count": 9,
   "metadata": {},
   "outputs": [
    {
     "name": "stdout",
     "output_type": "stream",
     "text": [
      "Enter first Number : 30\n",
      "Enter second Number : 45\n",
      "GCD of 30 and 45 is 15\n"
     ]
    }
   ],
   "source": [
    "# Question 2: function to finc GCD of two numbers\n",
    "def gcd(n1, n2) :\n",
    "    if n2 == 0 :\n",
    "        return n1\n",
    "    else :\n",
    "        return gcd(n2, n1 % n2)\n",
    "    \n",
    "inp1 = int(input(\"Enter first Number : \"))\n",
    "inp2 = int(input(\"Enter second Number : \"))\n",
    "print(\"GCD of\" , inp1 ,\"and\", inp2 ,\"is\" ,  gcd(inp1, inp2))"
   ]
  },
  {
   "cell_type": "code",
   "execution_count": 10,
   "metadata": {},
   "outputs": [
    {
     "name": "stdout",
     "output_type": "stream",
     "text": [
      "Enter first Number : 12\n",
      "Enter second Number : 15\n",
      "LCM of (12,15) =  60.0\n"
     ]
    }
   ],
   "source": [
    "# Question 3: LCM of two numbers\n",
    "\n",
    "def lcm(n1, n2) :\n",
    "    return (n1 / gcd(n1,n2)) * n2\n",
    "\n",
    "inp1 = int(input(\"Enter first Number : \"))\n",
    "inp2 = int(input(\"Enter second Number : \"))\n",
    "print(f\"LCM of ({inp1},{inp2}) = \", lcm(inp1, inp2))"
   ]
  },
  {
   "cell_type": "code",
   "execution_count": null,
   "metadata": {},
   "outputs": [],
   "source": []
  }
 ],
 "metadata": {
  "kernelspec": {
   "display_name": "Python 3",
   "language": "python",
   "name": "python3"
  },
  "language_info": {
   "codemirror_mode": {
    "name": "ipython",
    "version": 3
   },
   "file_extension": ".py",
   "mimetype": "text/x-python",
   "name": "python",
   "nbconvert_exporter": "python",
   "pygments_lexer": "ipython3",
   "version": "3.7.6"
  }
 },
 "nbformat": 4,
 "nbformat_minor": 4
}
