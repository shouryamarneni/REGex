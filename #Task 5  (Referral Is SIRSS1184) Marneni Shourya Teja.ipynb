{
 "cells": [
  {
   "cell_type": "code",
   "execution_count": 74,
   "id": "36f47369",
   "metadata": {},
   "outputs": [],
   "source": [
    "#Q1: Given a list of integers, write a function to return the sum of all prime numbers in that list\n",
    "\n",
    "import math\n",
    "def is_prime(num):\n",
    "    if num % 2 == 0 and num > 2: \n",
    "        return False\n",
    "    for i in range(3, int(math.sqrt(num)) + 1, 2):\n",
    "        if num % i == 0:\n",
    "            return False\n",
    "    return True\n",
    "\n",
    "def prime_sum(l):\n",
    "    sum_prime = 0\n",
    "    for i in l:\n",
    "        if isPrime(i):\n",
    "            sum_prime += i\n",
    "    return sum_prime\n",
    "    "
   ]
  },
  {
   "cell_type": "code",
   "execution_count": 75,
   "id": "f2fddb0b",
   "metadata": {},
   "outputs": [
    {
     "data": {
      "text/plain": [
       "49"
      ]
     },
     "execution_count": 75,
     "metadata": {},
     "output_type": "execute_result"
    }
   ],
   "source": [
    "prime_sum([2,3,4,5,6,7,13,19])"
   ]
  },
  {
   "cell_type": "code",
   "execution_count": 76,
   "id": "d7e8add7",
   "metadata": {},
   "outputs": [],
   "source": [
    "#Q2: Given a list of integers, write a function to check whether the list is strictly increasing or not\n",
    "\n",
    "def lst_increasing(ls):\n",
    "    for i in range(1,len(ls)):\n",
    "        if ls[i] < ls[i-1]:\n",
    "            return False\n",
    "    return True"
   ]
  },
  {
   "cell_type": "code",
   "execution_count": 77,
   "id": "96b1c5f3",
   "metadata": {},
   "outputs": [
    {
     "data": {
      "text/plain": [
       "True"
      ]
     },
     "execution_count": 77,
     "metadata": {},
     "output_type": "execute_result"
    }
   ],
   "source": [
    "lst_increasing([1,2,3,4,5,6,7,8,9])\n"
   ]
  },
  {
   "cell_type": "code",
   "execution_count": 134,
   "id": "bbd8773b",
   "metadata": {},
   "outputs": [],
   "source": [
    "#Q3: Write a function to check whether a given list is expanding or not(the differnece btw adjacent elements should increse)\n",
    "\n",
    "def lst_inc(ls):\n",
    "    for i in range(1,len(ls)-1):\n",
    "        if abs(ls[i]-ls[i-1]) > abs(ls[i+1]-ls[i]):\n",
    "              return False\n",
    "    return True\n",
    "        \n"
   ]
  },
  {
   "cell_type": "code",
   "execution_count": 139,
   "id": "c07ed602",
   "metadata": {},
   "outputs": [
    {
     "data": {
      "text/plain": [
       "False"
      ]
     },
     "execution_count": 139,
     "metadata": {},
     "output_type": "execute_result"
    }
   ],
   "source": [
    "lst_inc([5,6,7,3,56,7,2,6,8,3])"
   ]
  },
  {
   "cell_type": "code",
   "execution_count": 140,
   "id": "1fc6521e",
   "metadata": {},
   "outputs": [
    {
     "data": {
      "text/plain": [
       "True"
      ]
     },
     "execution_count": 140,
     "metadata": {},
     "output_type": "execute_result"
    }
   ],
   "source": [
    "lst_inc([3,7,12,6,20,1])"
   ]
  },
  {
   "cell_type": "code",
   "execution_count": 144,
   "id": "94d8c81a",
   "metadata": {},
   "outputs": [],
   "source": [
    "#Q4: Write a funciton to calculate all permutation of a given string\n",
    "def removeChar(str, index):\n",
    "    endIndex = index if index == len(str) else index + 1\n",
    "    return str[:index] + str[endIndex:]\n",
    "\n",
    "def perm(str):\n",
    "    if len(str) <= 1:\n",
    "        return {str}\n",
    "    permSet = set()\n",
    "    for i, c in enumerate(str):\n",
    "        newStr = removeCharFromStr(str, i)\n",
    "        retSet = perm(newStr)\n",
    "        for elem in retSet:\n",
    "            permSet.add(c + elem)\n",
    "    return permSet"
   ]
  },
  {
   "cell_type": "code",
   "execution_count": 149,
   "id": "a2f44d00",
   "metadata": {},
   "outputs": [
    {
     "data": {
      "text/plain": [
       "{'XYZ', 'XZY', 'YXZ', 'YZX', 'ZXY', 'ZYX'}"
      ]
     },
     "execution_count": 149,
     "metadata": {},
     "output_type": "execute_result"
    }
   ],
   "source": [
    "perm('XYZ')"
   ]
  },
  {
   "cell_type": "code",
   "execution_count": null,
   "id": "89bdf981",
   "metadata": {},
   "outputs": [],
   "source": []
  }
 ],
 "metadata": {
  "kernelspec": {
   "display_name": "Python 3",
   "language": "python",
   "name": "python3"
  },
  "language_info": {
   "codemirror_mode": {
    "name": "ipython",
    "version": 3
   },
   "file_extension": ".py",
   "mimetype": "text/x-python",
   "name": "python",
   "nbconvert_exporter": "python",
   "pygments_lexer": "ipython3",
   "version": "3.8.8"
  }
 },
 "nbformat": 4,
 "nbformat_minor": 5
}
