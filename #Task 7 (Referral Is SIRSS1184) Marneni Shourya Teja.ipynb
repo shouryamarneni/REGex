{
 "cells": [
  {
   "cell_type": "markdown",
   "metadata": {},
   "source": [
    "Q1. Implement gradient descent (for simple linear regression) from scratch."
   ]
  },
  {
   "cell_type": "code",
   "execution_count": 4,
   "metadata": {},
   "outputs": [],
   "source": [
    "import numpy as np   #importing the required libraries\n",
    "X_data = np.array([160,171,182,180,154], ndmin=2).reshape((5,1))   #Creating X and Y dataset\n",
    "y_data = np.array([72,76,77,83,76])\n",
    "X_mean = np.mean(X_data)  #mean of X and y dataset\n",
    "y_mean = np.mean(y_data)\n",
    "n = len(X_data)"
   ]
  },
  {
   "cell_type": "code",
   "execution_count": 5,
   "metadata": {},
   "outputs": [
    {
     "name": "stdout",
     "output_type": "stream",
     "text": [
      "(array([41.63084112]), array([0.20761015]))\n",
      "5.165340453938583\n",
      "(array([41.63084112]), array([0.20711255]))\n",
      "5.147714935039892\n"
     ]
    }
   ],
   "source": [
    "\n",
    "class LinearRegression:\n",
    "    b0 = 0\n",
    "    b1 = 0\n",
    "    y_pred = 0\n",
    "    error = 0\n",
    "    epoch = 10\n",
    "    alpha = 0.000001\n",
    "    \n",
    "    def fit(self, X, y): #funvtion to fit the training dataset\n",
    "        upward = 0\n",
    "        downward = 0\n",
    "        for i in range(n):\n",
    "            upward += (X_data[i]-X_mean)*(y_data[i]-y_mean)\n",
    "            downward += (X_data[i]-X_mean)**2\n",
    "        self.b1 = upward / downward\n",
    "        self.b0 = y_mean - (self.b1*X_mean)\n",
    "        return self.b0, self.b1\n",
    "    \n",
    "    def loss_function(self, Xi): #function to calculate the loss function\n",
    "        self.y_pred = self.b0 + (self.b1*Xi)\n",
    "        self.error = (y_mean - self.y_pred)\n",
    "        sse = np.square(self.error)\n",
    "        mse = np.mean(sse)\n",
    "        return mse\n",
    "    \n",
    "    def loss_optimizer(self, Xi): #function which returns loss optimization\n",
    "        for i in range(self.epoch):\n",
    "            derivative_b1 = (-2/n)*np.sum(Xi*self.error)\n",
    "            derivative_b0 = (-2/n)*np.sum(self.error)\n",
    "            self.b1 = self.b1 - self.alpha * derivative_b1\n",
    "            self.b0 = self.b0 - self.alpha * derivative_b0\n",
    "        return self.b0, self.b1\n",
    "    \n",
    "model = LinearRegression()\n",
    "print(model.fit(X_data, y_data))\n",
    "print(model.loss_function(X_data))\n",
    "print(model.loss_optimizer(X_data))\n",
    "print(model.loss_function(X_data))"
   ]
  },
  {
   "cell_type": "code",
   "execution_count": null,
   "metadata": {},
   "outputs": [],
   "source": []
  }
 ],
 "metadata": {
  "kernelspec": {
   "display_name": "Python 3",
   "language": "python",
   "name": "python3"
  },
  "language_info": {
   "codemirror_mode": {
    "name": "ipython",
    "version": 3
   },
   "file_extension": ".py",
   "mimetype": "text/x-python",
   "name": "python",
   "nbconvert_exporter": "python",
   "pygments_lexer": "ipython3",
   "version": "3.7.6"
  }
 },
 "nbformat": 4,
 "nbformat_minor": 4
}
